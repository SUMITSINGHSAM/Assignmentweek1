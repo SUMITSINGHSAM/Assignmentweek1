{
 "cells": [
  {
   "cell_type": "code",
   "execution_count": null,
   "id": "e1f1dc8d-fe23-4d24-8511-b1fa51f5224d",
   "metadata": {},
   "outputs": [],
   "source": [
    "Q1 Create one variable containing following types of data:\n",
    "(i)string\n",
    "(ii)list\n",
    "(iii)float\n",
    "(iv)tuple"
   ]
  },
  {
   "cell_type": "code",
   "execution_count": null,
   "id": "f641541e-f8a5-4e86-8456-d812a009747a",
   "metadata": {},
   "outputs": [],
   "source": [
    "#Answer 1"
   ]
  },
  {
   "cell_type": "code",
   "execution_count": null,
   "id": "25e8d4d4-813f-42a1-bf76-0dfdf943843a",
   "metadata": {},
   "outputs": [],
   "source": [
    "var=\"wwelcome to Data Science Master 2.0 Course\"\n",
    "print(var)\n",
    "var=[1,2,3,4.5,5+6j,'Sumit Singh']\n",
    "print(var)\n",
    "var=9.5\n",
    "print(var)\n",
    "var=(1,2,3,9.5)\n",
    "print(var)"
   ]
  },
  {
   "cell_type": "markdown",
   "id": "512d14d8-9398-446a-8229-8cacb76505ba",
   "metadata": {},
   "source": [
    "Q2.Given are some following variables containing data:\n",
    "(i)var1=''\n",
    "(ii)var2='[DS,ML,python]'\n",
    "(iii)var3=['DS','ML','python']\n",
    "(iv)var4=1."
   ]
  },
  {
   "cell_type": "code",
   "execution_count": null,
   "id": "22620412-a577-4fc9-952c-b99f24fdd155",
   "metadata": {},
   "outputs": [],
   "source": [
    "#Answer2 (i)string  (ii)string  (iii)list   (iv)float"
   ]
  },
  {
   "cell_type": "markdown",
   "id": "6e86fd8e-d15e-402d-ae92-514f3eb5527f",
   "metadata": {},
   "source": [
    "Q3 Explain the use of the following operators using an example\n",
    "(i)/    \n",
    "(ii)%\n",
    "(iii)//\n",
    "(iv)**"
   ]
  },
  {
   "cell_type": "code",
   "execution_count": null,
   "id": "3e1eda53-5863-48c4-8398-137ae0e1a812",
   "metadata": {},
   "outputs": [],
   "source": [
    "#Answer3 \n",
    "#(i)it is a division operator which is used to divide a number\n",
    "#(ii)it is a modulus operatoe which is used to find remainder of a number\n",
    "#(iii)it is a floor division operator which is used to for integer part as output only\n",
    "#(iv)it is a exponeniation operator which is used to calculate a power of a number\n",
    "a=float(input(\"Enter the numerator value\"))\n",
    "b=float(input(\"Enter the denometor value\"))\n",
    "div=a/b\n",
    "print(\"the result is a =\",div)\n",
    "mod=a%b\n",
    "print(\"the remainder is = \",mod)\n",
    "frdiv=a//b\n",
    "print(\"the output is =\",frdiv,\"when we divide o.5 but in floor division only integer part only as output\")\n",
    "powe=a**b\n",
    "print(\"the result is =\",powe)"
   ]
  },
  {
   "cell_type": "markdown",
   "id": "cb3f0ad9-ca78-48fc-9831-9003a11d2f07",
   "metadata": {},
   "source": [
    "Q4 Create a list of lenght 10 of your choice containing multiple types of data.Using for loop print the element and its datatype"
   ]
  },
  {
   "cell_type": "code",
   "execution_count": null,
   "id": "54b4920e-0bf9-41cf-ad58-eed90db7a807",
   "metadata": {},
   "outputs": [],
   "source": [
    "#Answer 4\n",
    "l1=[1,99.5,\"Program\",5+6j,True,False,(5,5),[1,2],{1,2},{1:'one',2:'two'}]\n",
    "for i in l1:\n",
    "    print(i,type(i))\n",
    "    "
   ]
  },
  {
   "cell_type": "markdown",
   "id": "bcdf6aff-f7aa-404f-9d5a-d1522e935d5d",
   "metadata": {},
   "source": [
    "Q5.Using a while loop,verify if the number A is purely divsible by a number B and \n",
    "it so then how many times it can be divisible"
   ]
  },
  {
   "cell_type": "code",
   "execution_count": 3,
   "id": "44d0a582-be3b-40ea-b80f-77f480849be7",
   "metadata": {},
   "outputs": [
    {
     "name": "stdin",
     "output_type": "stream",
     "text": [
      "enter Number A: 5\n",
      "Enter Number B: 2\n"
     ]
    }
   ],
   "source": [
    "#Answer 5\n",
    "A=float(input(\"enter Number A:\"))\n",
    "B=float(input(\"Enter Number B:\"))\n",
    "count=0\n",
    "while(A%B==0):\n",
    "    count=count+1\n",
    "    print(count)\n"
   ]
  },
  {
   "cell_type": "markdown",
   "id": "6b93aa61-80e0-4d8c-b5cf-fcef35a54284",
   "metadata": {},
   "source": [
    "Q6 Create a list containing 25 int types of data.Using for loop andif-else condition \n",
    "print if the element is divisible by 3 or not."
   ]
  },
  {
   "cell_type": "code",
   "execution_count": 3,
   "id": "28db0496-ac6d-4bd3-85be-24c7fb26c6e0",
   "metadata": {},
   "outputs": [
    {
     "name": "stdout",
     "output_type": "stream",
     "text": [
      "its not divisible by 3\n",
      "its not divisible by 3\n",
      "its divisible by 3\n",
      "its not divisible by 3\n",
      "its not divisible by 3\n",
      "its divisible by 3\n",
      "its not divisible by 3\n",
      "its not divisible by 3\n",
      "its divisible by 3\n",
      "its not divisible by 3\n",
      "its not divisible by 3\n",
      "its divisible by 3\n",
      "its not divisible by 3\n",
      "its not divisible by 3\n",
      "its divisible by 3\n",
      "its not divisible by 3\n",
      "its not divisible by 3\n",
      "its divisible by 3\n",
      "its not divisible by 3\n",
      "its not divisible by 3\n",
      "its divisible by 3\n",
      "its not divisible by 3\n",
      "its not divisible by 3\n",
      "its divisible by 3\n",
      "its divisible by 3\n"
     ]
    }
   ],
   "source": [
    "#Answer 6\n",
    "l2=[1,2,3,4,5,6,7,8,9,10,11,12,13,14,15,16,17,18,19,20,21,22,23,24,24]\n",
    "for i in l2:\n",
    "    if i%3==0:\n",
    "        print(\"its divisible by 3\")\n",
    "    else:\n",
    "        print(\"its not divisible by 3\")"
   ]
  },
  {
   "cell_type": "markdown",
   "id": "d622f8bf-fc5f-451c-a782-25769ddaac01",
   "metadata": {},
   "source": [
    "Q7 What do you understand about mutable and immutable data types?\n",
    "Give example for both showing this property"
   ]
  },
  {
   "cell_type": "code",
   "execution_count": 2,
   "id": "e4e15b90-9b5b-48d7-87c4-fc7a3dee6e08",
   "metadata": {},
   "outputs": [
    {
     "name": "stdout",
     "output_type": "stream",
     "text": [
      "Data Science\n"
     ]
    },
    {
     "ename": "TypeError",
     "evalue": "'type' object does not support item assignment",
     "output_type": "error",
     "traceback": [
      "\u001b[0;31m---------------------------------------------------------------------------\u001b[0m",
      "\u001b[0;31mTypeError\u001b[0m                                 Traceback (most recent call last)",
      "Cell \u001b[0;32mIn[2], line 4\u001b[0m\n\u001b[1;32m      2\u001b[0m str1\u001b[38;5;241m=\u001b[39m\u001b[38;5;124m\"\u001b[39m\u001b[38;5;124mData Science\u001b[39m\u001b[38;5;124m\"\u001b[39m\n\u001b[1;32m      3\u001b[0m \u001b[38;5;28mprint\u001b[39m(str1)\n\u001b[0;32m----> 4\u001b[0m \u001b[38;5;28;43mstr\u001b[39;49m\u001b[43m[\u001b[49m\u001b[38;5;241;43m2\u001b[39;49m\u001b[43m]\u001b[49m\u001b[38;5;241m=\u001b[39m\u001b[38;5;124m'\u001b[39m\u001b[38;5;124mP\u001b[39m\u001b[38;5;124m'\u001b[39m\n",
      "\u001b[0;31mTypeError\u001b[0m: 'type' object does not support item assignment"
     ]
    }
   ],
   "source": [
    "#Answer 7\n",
    "#immutable data types means which cannot be modified or changed data at particular index position\n",
    "#mutable data types means which can be modified or changed data at particular index position\n",
    "str1=\"Data Science\"\n",
    "print(str1)\n",
    "str[2]='P' #this is example of immuatable data types"
   ]
  },
  {
   "cell_type": "code",
   "execution_count": 3,
   "id": "4aaa15fa-5dd3-4751-a8b6-d8d57b7481a2",
   "metadata": {},
   "outputs": [
    {
     "name": "stdout",
     "output_type": "stream",
     "text": [
      "[1, 2, 3, 4, 5]\n",
      "100\n"
     ]
    }
   ],
   "source": [
    "list1=[1,2,3,4,5]\n",
    "print(list1)\n",
    "list1[2]=100 #this i example of mutable data types\n",
    "print(list1[2])"
   ]
  },
  {
   "cell_type": "code",
   "execution_count": null,
   "id": "1ce70544-3806-4f88-a300-a299f6c3795e",
   "metadata": {},
   "outputs": [],
   "source": []
  }
 ],
 "metadata": {
  "kernelspec": {
   "display_name": "Python 3 (ipykernel)",
   "language": "python",
   "name": "python3"
  },
  "language_info": {
   "codemirror_mode": {
    "name": "ipython",
    "version": 3
   },
   "file_extension": ".py",
   "mimetype": "text/x-python",
   "name": "python",
   "nbconvert_exporter": "python",
   "pygments_lexer": "ipython3",
   "version": "3.10.8"
  }
 },
 "nbformat": 4,
 "nbformat_minor": 5
}
